{
 "cells": [
  {
   "cell_type": "markdown",
   "metadata": {},
   "source": [
    "Data Source: P. Cortez. \"Student Performance,\" UCI Machine Learning Repository, 2008. [Online]. Available: https://doi.org/10.24432/C5TG7T."
   ]
  },
  {
   "cell_type": "markdown",
   "metadata": {},
   "source": [
    "Importing Necessary Python Libraries: Pandas, Numpy, Matplotlib and Seaborn"
   ]
  },
  {
   "cell_type": "code",
   "execution_count": 1,
   "metadata": {},
   "outputs": [],
   "source": [
    "import pandas as pd\n",
    "import numpy as np\n",
    "import matplotlib.pyplot as plt\n",
    "import seaborn as sns"
   ]
  },
  {
   "cell_type": "markdown",
   "metadata": {},
   "source": [
    "Reading a ';' separated csv file with pandas"
   ]
  },
  {
   "cell_type": "code",
   "execution_count": 2,
   "metadata": {},
   "outputs": [
    {
     "data": {
      "text/html": [
       "<div>\n",
       "<style scoped>\n",
       "    .dataframe tbody tr th:only-of-type {\n",
       "        vertical-align: middle;\n",
       "    }\n",
       "\n",
       "    .dataframe tbody tr th {\n",
       "        vertical-align: top;\n",
       "    }\n",
       "\n",
       "    .dataframe thead th {\n",
       "        text-align: right;\n",
       "    }\n",
       "</style>\n",
       "<table border=\"1\" class=\"dataframe\">\n",
       "  <thead>\n",
       "    <tr style=\"text-align: right;\">\n",
       "      <th></th>\n",
       "      <th>age</th>\n",
       "      <th>Medu</th>\n",
       "      <th>Fedu</th>\n",
       "      <th>traveltime</th>\n",
       "      <th>studytime</th>\n",
       "      <th>failures</th>\n",
       "      <th>famrel</th>\n",
       "      <th>freetime</th>\n",
       "      <th>goout</th>\n",
       "      <th>Dalc</th>\n",
       "      <th>Walc</th>\n",
       "      <th>health</th>\n",
       "      <th>absences</th>\n",
       "      <th>G1</th>\n",
       "      <th>G2</th>\n",
       "      <th>G3</th>\n",
       "    </tr>\n",
       "  </thead>\n",
       "  <tbody>\n",
       "    <tr>\n",
       "      <th>count</th>\n",
       "      <td>395.000000</td>\n",
       "      <td>395.000000</td>\n",
       "      <td>395.000000</td>\n",
       "      <td>395.000000</td>\n",
       "      <td>395.000000</td>\n",
       "      <td>395.000000</td>\n",
       "      <td>395.000000</td>\n",
       "      <td>395.000000</td>\n",
       "      <td>395.000000</td>\n",
       "      <td>395.000000</td>\n",
       "      <td>395.000000</td>\n",
       "      <td>395.000000</td>\n",
       "      <td>395.000000</td>\n",
       "      <td>395.000000</td>\n",
       "      <td>395.000000</td>\n",
       "      <td>395.000000</td>\n",
       "    </tr>\n",
       "    <tr>\n",
       "      <th>mean</th>\n",
       "      <td>16.696203</td>\n",
       "      <td>2.749367</td>\n",
       "      <td>2.521519</td>\n",
       "      <td>1.448101</td>\n",
       "      <td>2.035443</td>\n",
       "      <td>0.334177</td>\n",
       "      <td>3.944304</td>\n",
       "      <td>3.235443</td>\n",
       "      <td>3.108861</td>\n",
       "      <td>1.481013</td>\n",
       "      <td>2.291139</td>\n",
       "      <td>3.554430</td>\n",
       "      <td>5.708861</td>\n",
       "      <td>10.908861</td>\n",
       "      <td>10.713924</td>\n",
       "      <td>10.415190</td>\n",
       "    </tr>\n",
       "    <tr>\n",
       "      <th>std</th>\n",
       "      <td>1.276043</td>\n",
       "      <td>1.094735</td>\n",
       "      <td>1.088201</td>\n",
       "      <td>0.697505</td>\n",
       "      <td>0.839240</td>\n",
       "      <td>0.743651</td>\n",
       "      <td>0.896659</td>\n",
       "      <td>0.998862</td>\n",
       "      <td>1.113278</td>\n",
       "      <td>0.890741</td>\n",
       "      <td>1.287897</td>\n",
       "      <td>1.390303</td>\n",
       "      <td>8.003096</td>\n",
       "      <td>3.319195</td>\n",
       "      <td>3.761505</td>\n",
       "      <td>4.581443</td>\n",
       "    </tr>\n",
       "    <tr>\n",
       "      <th>min</th>\n",
       "      <td>15.000000</td>\n",
       "      <td>0.000000</td>\n",
       "      <td>0.000000</td>\n",
       "      <td>1.000000</td>\n",
       "      <td>1.000000</td>\n",
       "      <td>0.000000</td>\n",
       "      <td>1.000000</td>\n",
       "      <td>1.000000</td>\n",
       "      <td>1.000000</td>\n",
       "      <td>1.000000</td>\n",
       "      <td>1.000000</td>\n",
       "      <td>1.000000</td>\n",
       "      <td>0.000000</td>\n",
       "      <td>3.000000</td>\n",
       "      <td>0.000000</td>\n",
       "      <td>0.000000</td>\n",
       "    </tr>\n",
       "    <tr>\n",
       "      <th>25%</th>\n",
       "      <td>16.000000</td>\n",
       "      <td>2.000000</td>\n",
       "      <td>2.000000</td>\n",
       "      <td>1.000000</td>\n",
       "      <td>1.000000</td>\n",
       "      <td>0.000000</td>\n",
       "      <td>4.000000</td>\n",
       "      <td>3.000000</td>\n",
       "      <td>2.000000</td>\n",
       "      <td>1.000000</td>\n",
       "      <td>1.000000</td>\n",
       "      <td>3.000000</td>\n",
       "      <td>0.000000</td>\n",
       "      <td>8.000000</td>\n",
       "      <td>9.000000</td>\n",
       "      <td>8.000000</td>\n",
       "    </tr>\n",
       "    <tr>\n",
       "      <th>50%</th>\n",
       "      <td>17.000000</td>\n",
       "      <td>3.000000</td>\n",
       "      <td>2.000000</td>\n",
       "      <td>1.000000</td>\n",
       "      <td>2.000000</td>\n",
       "      <td>0.000000</td>\n",
       "      <td>4.000000</td>\n",
       "      <td>3.000000</td>\n",
       "      <td>3.000000</td>\n",
       "      <td>1.000000</td>\n",
       "      <td>2.000000</td>\n",
       "      <td>4.000000</td>\n",
       "      <td>4.000000</td>\n",
       "      <td>11.000000</td>\n",
       "      <td>11.000000</td>\n",
       "      <td>11.000000</td>\n",
       "    </tr>\n",
       "    <tr>\n",
       "      <th>75%</th>\n",
       "      <td>18.000000</td>\n",
       "      <td>4.000000</td>\n",
       "      <td>3.000000</td>\n",
       "      <td>2.000000</td>\n",
       "      <td>2.000000</td>\n",
       "      <td>0.000000</td>\n",
       "      <td>5.000000</td>\n",
       "      <td>4.000000</td>\n",
       "      <td>4.000000</td>\n",
       "      <td>2.000000</td>\n",
       "      <td>3.000000</td>\n",
       "      <td>5.000000</td>\n",
       "      <td>8.000000</td>\n",
       "      <td>13.000000</td>\n",
       "      <td>13.000000</td>\n",
       "      <td>14.000000</td>\n",
       "    </tr>\n",
       "    <tr>\n",
       "      <th>max</th>\n",
       "      <td>22.000000</td>\n",
       "      <td>4.000000</td>\n",
       "      <td>4.000000</td>\n",
       "      <td>4.000000</td>\n",
       "      <td>4.000000</td>\n",
       "      <td>3.000000</td>\n",
       "      <td>5.000000</td>\n",
       "      <td>5.000000</td>\n",
       "      <td>5.000000</td>\n",
       "      <td>5.000000</td>\n",
       "      <td>5.000000</td>\n",
       "      <td>5.000000</td>\n",
       "      <td>75.000000</td>\n",
       "      <td>19.000000</td>\n",
       "      <td>19.000000</td>\n",
       "      <td>20.000000</td>\n",
       "    </tr>\n",
       "  </tbody>\n",
       "</table>\n",
       "</div>"
      ],
      "text/plain": [
       "              age        Medu        Fedu  traveltime   studytime    failures  \\\n",
       "count  395.000000  395.000000  395.000000  395.000000  395.000000  395.000000   \n",
       "mean    16.696203    2.749367    2.521519    1.448101    2.035443    0.334177   \n",
       "std      1.276043    1.094735    1.088201    0.697505    0.839240    0.743651   \n",
       "min     15.000000    0.000000    0.000000    1.000000    1.000000    0.000000   \n",
       "25%     16.000000    2.000000    2.000000    1.000000    1.000000    0.000000   \n",
       "50%     17.000000    3.000000    2.000000    1.000000    2.000000    0.000000   \n",
       "75%     18.000000    4.000000    3.000000    2.000000    2.000000    0.000000   \n",
       "max     22.000000    4.000000    4.000000    4.000000    4.000000    3.000000   \n",
       "\n",
       "           famrel    freetime       goout        Dalc        Walc      health  \\\n",
       "count  395.000000  395.000000  395.000000  395.000000  395.000000  395.000000   \n",
       "mean     3.944304    3.235443    3.108861    1.481013    2.291139    3.554430   \n",
       "std      0.896659    0.998862    1.113278    0.890741    1.287897    1.390303   \n",
       "min      1.000000    1.000000    1.000000    1.000000    1.000000    1.000000   \n",
       "25%      4.000000    3.000000    2.000000    1.000000    1.000000    3.000000   \n",
       "50%      4.000000    3.000000    3.000000    1.000000    2.000000    4.000000   \n",
       "75%      5.000000    4.000000    4.000000    2.000000    3.000000    5.000000   \n",
       "max      5.000000    5.000000    5.000000    5.000000    5.000000    5.000000   \n",
       "\n",
       "         absences          G1          G2          G3  \n",
       "count  395.000000  395.000000  395.000000  395.000000  \n",
       "mean     5.708861   10.908861   10.713924   10.415190  \n",
       "std      8.003096    3.319195    3.761505    4.581443  \n",
       "min      0.000000    3.000000    0.000000    0.000000  \n",
       "25%      0.000000    8.000000    9.000000    8.000000  \n",
       "50%      4.000000   11.000000   11.000000   11.000000  \n",
       "75%      8.000000   13.000000   13.000000   14.000000  \n",
       "max     75.000000   19.000000   19.000000   20.000000  "
      ]
     },
     "execution_count": 2,
     "metadata": {},
     "output_type": "execute_result"
    }
   ],
   "source": [
    "df = pd.read_csv('student-mat.csv', sep=';')\n",
    "df.describe()"
   ]
  },
  {
   "cell_type": "markdown",
   "metadata": {},
   "source": [
    "Showing Column Names"
   ]
  },
  {
   "cell_type": "code",
   "execution_count": 3,
   "metadata": {},
   "outputs": [
    {
     "data": {
      "text/plain": [
       "Index(['school', 'sex', 'age', 'address', 'famsize', 'Pstatus', 'Medu', 'Fedu',\n",
       "       'Mjob', 'Fjob', 'reason', 'guardian', 'traveltime', 'studytime',\n",
       "       'failures', 'schoolsup', 'famsup', 'paid', 'activities', 'nursery',\n",
       "       'higher', 'internet', 'romantic', 'famrel', 'freetime', 'goout', 'Dalc',\n",
       "       'Walc', 'health', 'absences', 'G1', 'G2', 'G3'],\n",
       "      dtype='object')"
      ]
     },
     "execution_count": 3,
     "metadata": {},
     "output_type": "execute_result"
    }
   ],
   "source": [
    "df.columns"
   ]
  },
  {
   "cell_type": "markdown",
   "metadata": {},
   "source": [
    "Showing the shape of the dataset, it has 395 rows and 33 columns"
   ]
  },
  {
   "cell_type": "code",
   "execution_count": 4,
   "metadata": {},
   "outputs": [
    {
     "data": {
      "text/plain": [
       "(395, 33)"
      ]
     },
     "execution_count": 4,
     "metadata": {},
     "output_type": "execute_result"
    }
   ],
   "source": [
    "df.shape"
   ]
  },
  {
   "cell_type": "markdown",
   "metadata": {},
   "source": [
    "Looking for any Null or missing values in the dataset, there is none."
   ]
  },
  {
   "cell_type": "code",
   "execution_count": 5,
   "metadata": {},
   "outputs": [
    {
     "data": {
      "text/plain": [
       "school        0\n",
       "sex           0\n",
       "age           0\n",
       "address       0\n",
       "famsize       0\n",
       "Pstatus       0\n",
       "Medu          0\n",
       "Fedu          0\n",
       "Mjob          0\n",
       "Fjob          0\n",
       "reason        0\n",
       "guardian      0\n",
       "traveltime    0\n",
       "studytime     0\n",
       "failures      0\n",
       "schoolsup     0\n",
       "famsup        0\n",
       "paid          0\n",
       "activities    0\n",
       "nursery       0\n",
       "higher        0\n",
       "internet      0\n",
       "romantic      0\n",
       "famrel        0\n",
       "freetime      0\n",
       "goout         0\n",
       "Dalc          0\n",
       "Walc          0\n",
       "health        0\n",
       "absences      0\n",
       "G1            0\n",
       "G2            0\n",
       "G3            0\n",
       "dtype: int64"
      ]
     },
     "execution_count": 5,
     "metadata": {},
     "output_type": "execute_result"
    }
   ],
   "source": [
    "df.isnull().sum()"
   ]
  },
  {
   "cell_type": "markdown",
   "metadata": {},
   "source": [
    "No need for 33 columns, will reduce to 15 columns\n",
    "school, sex, age, address, reason, traveltime, studytime, famsup, activities, higher, internet, goout, health, absences, g3"
   ]
  },
  {
   "cell_type": "code",
   "execution_count": 6,
   "metadata": {},
   "outputs": [
    {
     "data": {
      "text/plain": [
       "Index(['school', 'sex', 'age', 'address', 'famsize', 'Pstatus', 'Medu', 'Fedu',\n",
       "       'Mjob', 'Fjob', 'reason', 'guardian', 'traveltime', 'studytime',\n",
       "       'failures', 'schoolsup', 'famsup', 'paid', 'activities', 'nursery',\n",
       "       'higher', 'internet', 'romantic', 'famrel', 'freetime', 'goout', 'Dalc',\n",
       "       'Walc', 'health', 'absences', 'G1', 'G2', 'G3'],\n",
       "      dtype='object')"
      ]
     },
     "execution_count": 6,
     "metadata": {},
     "output_type": "execute_result"
    }
   ],
   "source": [
    "df.columns"
   ]
  },
  {
   "cell_type": "code",
   "execution_count": 7,
   "metadata": {},
   "outputs": [],
   "source": [
    "st = df[['school', 'sex', 'age', 'address','reason','traveltime', 'studytime','famsup', 'activities',\n",
    "       'higher', 'internet',  'goout', 'health', 'absences', 'G3']]"
   ]
  },
  {
   "cell_type": "code",
   "execution_count": 8,
   "metadata": {},
   "outputs": [
    {
     "data": {
      "text/html": [
       "<div>\n",
       "<style scoped>\n",
       "    .dataframe tbody tr th:only-of-type {\n",
       "        vertical-align: middle;\n",
       "    }\n",
       "\n",
       "    .dataframe tbody tr th {\n",
       "        vertical-align: top;\n",
       "    }\n",
       "\n",
       "    .dataframe thead th {\n",
       "        text-align: right;\n",
       "    }\n",
       "</style>\n",
       "<table border=\"1\" class=\"dataframe\">\n",
       "  <thead>\n",
       "    <tr style=\"text-align: right;\">\n",
       "      <th></th>\n",
       "      <th>school</th>\n",
       "      <th>sex</th>\n",
       "      <th>age</th>\n",
       "      <th>address</th>\n",
       "      <th>reason</th>\n",
       "      <th>traveltime</th>\n",
       "      <th>studytime</th>\n",
       "      <th>famsup</th>\n",
       "      <th>activities</th>\n",
       "      <th>higher</th>\n",
       "      <th>internet</th>\n",
       "      <th>goout</th>\n",
       "      <th>health</th>\n",
       "      <th>absences</th>\n",
       "      <th>G3</th>\n",
       "    </tr>\n",
       "  </thead>\n",
       "  <tbody>\n",
       "    <tr>\n",
       "      <th>0</th>\n",
       "      <td>GP</td>\n",
       "      <td>F</td>\n",
       "      <td>18</td>\n",
       "      <td>U</td>\n",
       "      <td>course</td>\n",
       "      <td>2</td>\n",
       "      <td>2</td>\n",
       "      <td>no</td>\n",
       "      <td>no</td>\n",
       "      <td>yes</td>\n",
       "      <td>no</td>\n",
       "      <td>4</td>\n",
       "      <td>3</td>\n",
       "      <td>6</td>\n",
       "      <td>6</td>\n",
       "    </tr>\n",
       "    <tr>\n",
       "      <th>1</th>\n",
       "      <td>GP</td>\n",
       "      <td>F</td>\n",
       "      <td>17</td>\n",
       "      <td>U</td>\n",
       "      <td>course</td>\n",
       "      <td>1</td>\n",
       "      <td>2</td>\n",
       "      <td>yes</td>\n",
       "      <td>no</td>\n",
       "      <td>yes</td>\n",
       "      <td>yes</td>\n",
       "      <td>3</td>\n",
       "      <td>3</td>\n",
       "      <td>4</td>\n",
       "      <td>6</td>\n",
       "    </tr>\n",
       "    <tr>\n",
       "      <th>2</th>\n",
       "      <td>GP</td>\n",
       "      <td>F</td>\n",
       "      <td>15</td>\n",
       "      <td>U</td>\n",
       "      <td>other</td>\n",
       "      <td>1</td>\n",
       "      <td>2</td>\n",
       "      <td>no</td>\n",
       "      <td>no</td>\n",
       "      <td>yes</td>\n",
       "      <td>yes</td>\n",
       "      <td>2</td>\n",
       "      <td>3</td>\n",
       "      <td>10</td>\n",
       "      <td>10</td>\n",
       "    </tr>\n",
       "    <tr>\n",
       "      <th>3</th>\n",
       "      <td>GP</td>\n",
       "      <td>F</td>\n",
       "      <td>15</td>\n",
       "      <td>U</td>\n",
       "      <td>home</td>\n",
       "      <td>1</td>\n",
       "      <td>3</td>\n",
       "      <td>yes</td>\n",
       "      <td>yes</td>\n",
       "      <td>yes</td>\n",
       "      <td>yes</td>\n",
       "      <td>2</td>\n",
       "      <td>5</td>\n",
       "      <td>2</td>\n",
       "      <td>15</td>\n",
       "    </tr>\n",
       "    <tr>\n",
       "      <th>4</th>\n",
       "      <td>GP</td>\n",
       "      <td>F</td>\n",
       "      <td>16</td>\n",
       "      <td>U</td>\n",
       "      <td>home</td>\n",
       "      <td>1</td>\n",
       "      <td>2</td>\n",
       "      <td>yes</td>\n",
       "      <td>no</td>\n",
       "      <td>yes</td>\n",
       "      <td>no</td>\n",
       "      <td>2</td>\n",
       "      <td>5</td>\n",
       "      <td>4</td>\n",
       "      <td>10</td>\n",
       "    </tr>\n",
       "  </tbody>\n",
       "</table>\n",
       "</div>"
      ],
      "text/plain": [
       "  school sex  age address  reason  traveltime  studytime famsup activities  \\\n",
       "0     GP   F   18       U  course           2          2     no         no   \n",
       "1     GP   F   17       U  course           1          2    yes         no   \n",
       "2     GP   F   15       U   other           1          2     no         no   \n",
       "3     GP   F   15       U    home           1          3    yes        yes   \n",
       "4     GP   F   16       U    home           1          2    yes         no   \n",
       "\n",
       "  higher internet  goout  health  absences  G3  \n",
       "0    yes       no      4       3         6   6  \n",
       "1    yes      yes      3       3         4   6  \n",
       "2    yes      yes      2       3        10  10  \n",
       "3    yes      yes      2       5         2  15  \n",
       "4    yes       no      2       5         4  10  "
      ]
     },
     "execution_count": 8,
     "metadata": {},
     "output_type": "execute_result"
    }
   ],
   "source": [
    "st.head()"
   ]
  },
  {
   "cell_type": "markdown",
   "metadata": {},
   "source": [
    "Renaming some column names for convenience"
   ]
  },
  {
   "cell_type": "code",
   "execution_count": 9,
   "metadata": {},
   "outputs": [],
   "source": [
    "st = st.rename(columns={'sex': 'Gender', 'age':'Age', 'address': 'Location', 'traveltime': 'Travel_Time', 'studytime': 'Weekly_Study_Time', 'famsup':'Family_Support', 'activities': 'Extra_Curricular','higher': 'Higher_Ed_Exp','internet':'Internet_Availability','goout':'Goint_Out','health':'Health_Status','absences':'Absences_from_School','G3':'Final Grade'})"
   ]
  },
  {
   "cell_type": "code",
   "execution_count": 10,
   "metadata": {},
   "outputs": [
    {
     "data": {
      "text/html": [
       "<div>\n",
       "<style scoped>\n",
       "    .dataframe tbody tr th:only-of-type {\n",
       "        vertical-align: middle;\n",
       "    }\n",
       "\n",
       "    .dataframe tbody tr th {\n",
       "        vertical-align: top;\n",
       "    }\n",
       "\n",
       "    .dataframe thead th {\n",
       "        text-align: right;\n",
       "    }\n",
       "</style>\n",
       "<table border=\"1\" class=\"dataframe\">\n",
       "  <thead>\n",
       "    <tr style=\"text-align: right;\">\n",
       "      <th></th>\n",
       "      <th>school</th>\n",
       "      <th>Gender</th>\n",
       "      <th>Age</th>\n",
       "      <th>Location</th>\n",
       "      <th>reason</th>\n",
       "      <th>Travel_Time</th>\n",
       "      <th>Weekly_Study_Time</th>\n",
       "      <th>Family_Support</th>\n",
       "      <th>Extra_Curricular</th>\n",
       "      <th>Higher_Ed_Exp</th>\n",
       "      <th>Internet_Availability</th>\n",
       "      <th>Goint_Out</th>\n",
       "      <th>Health_Status</th>\n",
       "      <th>Absences_from_School</th>\n",
       "      <th>Final Grade</th>\n",
       "    </tr>\n",
       "  </thead>\n",
       "  <tbody>\n",
       "    <tr>\n",
       "      <th>0</th>\n",
       "      <td>GP</td>\n",
       "      <td>F</td>\n",
       "      <td>18</td>\n",
       "      <td>U</td>\n",
       "      <td>course</td>\n",
       "      <td>2</td>\n",
       "      <td>2</td>\n",
       "      <td>no</td>\n",
       "      <td>no</td>\n",
       "      <td>yes</td>\n",
       "      <td>no</td>\n",
       "      <td>4</td>\n",
       "      <td>3</td>\n",
       "      <td>6</td>\n",
       "      <td>6</td>\n",
       "    </tr>\n",
       "    <tr>\n",
       "      <th>1</th>\n",
       "      <td>GP</td>\n",
       "      <td>F</td>\n",
       "      <td>17</td>\n",
       "      <td>U</td>\n",
       "      <td>course</td>\n",
       "      <td>1</td>\n",
       "      <td>2</td>\n",
       "      <td>yes</td>\n",
       "      <td>no</td>\n",
       "      <td>yes</td>\n",
       "      <td>yes</td>\n",
       "      <td>3</td>\n",
       "      <td>3</td>\n",
       "      <td>4</td>\n",
       "      <td>6</td>\n",
       "    </tr>\n",
       "    <tr>\n",
       "      <th>2</th>\n",
       "      <td>GP</td>\n",
       "      <td>F</td>\n",
       "      <td>15</td>\n",
       "      <td>U</td>\n",
       "      <td>other</td>\n",
       "      <td>1</td>\n",
       "      <td>2</td>\n",
       "      <td>no</td>\n",
       "      <td>no</td>\n",
       "      <td>yes</td>\n",
       "      <td>yes</td>\n",
       "      <td>2</td>\n",
       "      <td>3</td>\n",
       "      <td>10</td>\n",
       "      <td>10</td>\n",
       "    </tr>\n",
       "    <tr>\n",
       "      <th>3</th>\n",
       "      <td>GP</td>\n",
       "      <td>F</td>\n",
       "      <td>15</td>\n",
       "      <td>U</td>\n",
       "      <td>home</td>\n",
       "      <td>1</td>\n",
       "      <td>3</td>\n",
       "      <td>yes</td>\n",
       "      <td>yes</td>\n",
       "      <td>yes</td>\n",
       "      <td>yes</td>\n",
       "      <td>2</td>\n",
       "      <td>5</td>\n",
       "      <td>2</td>\n",
       "      <td>15</td>\n",
       "    </tr>\n",
       "    <tr>\n",
       "      <th>4</th>\n",
       "      <td>GP</td>\n",
       "      <td>F</td>\n",
       "      <td>16</td>\n",
       "      <td>U</td>\n",
       "      <td>home</td>\n",
       "      <td>1</td>\n",
       "      <td>2</td>\n",
       "      <td>yes</td>\n",
       "      <td>no</td>\n",
       "      <td>yes</td>\n",
       "      <td>no</td>\n",
       "      <td>2</td>\n",
       "      <td>5</td>\n",
       "      <td>4</td>\n",
       "      <td>10</td>\n",
       "    </tr>\n",
       "    <tr>\n",
       "      <th>...</th>\n",
       "      <td>...</td>\n",
       "      <td>...</td>\n",
       "      <td>...</td>\n",
       "      <td>...</td>\n",
       "      <td>...</td>\n",
       "      <td>...</td>\n",
       "      <td>...</td>\n",
       "      <td>...</td>\n",
       "      <td>...</td>\n",
       "      <td>...</td>\n",
       "      <td>...</td>\n",
       "      <td>...</td>\n",
       "      <td>...</td>\n",
       "      <td>...</td>\n",
       "      <td>...</td>\n",
       "    </tr>\n",
       "    <tr>\n",
       "      <th>390</th>\n",
       "      <td>MS</td>\n",
       "      <td>M</td>\n",
       "      <td>20</td>\n",
       "      <td>U</td>\n",
       "      <td>course</td>\n",
       "      <td>1</td>\n",
       "      <td>2</td>\n",
       "      <td>yes</td>\n",
       "      <td>no</td>\n",
       "      <td>yes</td>\n",
       "      <td>no</td>\n",
       "      <td>4</td>\n",
       "      <td>4</td>\n",
       "      <td>11</td>\n",
       "      <td>9</td>\n",
       "    </tr>\n",
       "    <tr>\n",
       "      <th>391</th>\n",
       "      <td>MS</td>\n",
       "      <td>M</td>\n",
       "      <td>17</td>\n",
       "      <td>U</td>\n",
       "      <td>course</td>\n",
       "      <td>2</td>\n",
       "      <td>1</td>\n",
       "      <td>no</td>\n",
       "      <td>no</td>\n",
       "      <td>yes</td>\n",
       "      <td>yes</td>\n",
       "      <td>5</td>\n",
       "      <td>2</td>\n",
       "      <td>3</td>\n",
       "      <td>16</td>\n",
       "    </tr>\n",
       "    <tr>\n",
       "      <th>392</th>\n",
       "      <td>MS</td>\n",
       "      <td>M</td>\n",
       "      <td>21</td>\n",
       "      <td>R</td>\n",
       "      <td>course</td>\n",
       "      <td>1</td>\n",
       "      <td>1</td>\n",
       "      <td>no</td>\n",
       "      <td>no</td>\n",
       "      <td>yes</td>\n",
       "      <td>no</td>\n",
       "      <td>3</td>\n",
       "      <td>3</td>\n",
       "      <td>3</td>\n",
       "      <td>7</td>\n",
       "    </tr>\n",
       "    <tr>\n",
       "      <th>393</th>\n",
       "      <td>MS</td>\n",
       "      <td>M</td>\n",
       "      <td>18</td>\n",
       "      <td>R</td>\n",
       "      <td>course</td>\n",
       "      <td>3</td>\n",
       "      <td>1</td>\n",
       "      <td>no</td>\n",
       "      <td>no</td>\n",
       "      <td>yes</td>\n",
       "      <td>yes</td>\n",
       "      <td>1</td>\n",
       "      <td>5</td>\n",
       "      <td>0</td>\n",
       "      <td>10</td>\n",
       "    </tr>\n",
       "    <tr>\n",
       "      <th>394</th>\n",
       "      <td>MS</td>\n",
       "      <td>M</td>\n",
       "      <td>19</td>\n",
       "      <td>U</td>\n",
       "      <td>course</td>\n",
       "      <td>1</td>\n",
       "      <td>1</td>\n",
       "      <td>no</td>\n",
       "      <td>no</td>\n",
       "      <td>yes</td>\n",
       "      <td>yes</td>\n",
       "      <td>3</td>\n",
       "      <td>5</td>\n",
       "      <td>5</td>\n",
       "      <td>9</td>\n",
       "    </tr>\n",
       "  </tbody>\n",
       "</table>\n",
       "<p>395 rows × 15 columns</p>\n",
       "</div>"
      ],
      "text/plain": [
       "    school Gender  Age Location  reason  Travel_Time  Weekly_Study_Time  \\\n",
       "0       GP      F   18        U  course            2                  2   \n",
       "1       GP      F   17        U  course            1                  2   \n",
       "2       GP      F   15        U   other            1                  2   \n",
       "3       GP      F   15        U    home            1                  3   \n",
       "4       GP      F   16        U    home            1                  2   \n",
       "..     ...    ...  ...      ...     ...          ...                ...   \n",
       "390     MS      M   20        U  course            1                  2   \n",
       "391     MS      M   17        U  course            2                  1   \n",
       "392     MS      M   21        R  course            1                  1   \n",
       "393     MS      M   18        R  course            3                  1   \n",
       "394     MS      M   19        U  course            1                  1   \n",
       "\n",
       "    Family_Support Extra_Curricular Higher_Ed_Exp Internet_Availability  \\\n",
       "0               no               no           yes                    no   \n",
       "1              yes               no           yes                   yes   \n",
       "2               no               no           yes                   yes   \n",
       "3              yes              yes           yes                   yes   \n",
       "4              yes               no           yes                    no   \n",
       "..             ...              ...           ...                   ...   \n",
       "390            yes               no           yes                    no   \n",
       "391             no               no           yes                   yes   \n",
       "392             no               no           yes                    no   \n",
       "393             no               no           yes                   yes   \n",
       "394             no               no           yes                   yes   \n",
       "\n",
       "     Goint_Out  Health_Status  Absences_from_School  Final Grade  \n",
       "0            4              3                     6            6  \n",
       "1            3              3                     4            6  \n",
       "2            2              3                    10           10  \n",
       "3            2              5                     2           15  \n",
       "4            2              5                     4           10  \n",
       "..         ...            ...                   ...          ...  \n",
       "390          4              4                    11            9  \n",
       "391          5              2                     3           16  \n",
       "392          3              3                     3            7  \n",
       "393          1              5                     0           10  \n",
       "394          3              5                     5            9  \n",
       "\n",
       "[395 rows x 15 columns]"
      ]
     },
     "execution_count": 10,
     "metadata": {},
     "output_type": "execute_result"
    }
   ],
   "source": [
    "st"
   ]
  },
  {
   "cell_type": "markdown",
   "metadata": {},
   "source": [
    "Changing some categorical values from some columns"
   ]
  },
  {
   "cell_type": "code",
   "execution_count": 11,
   "metadata": {},
   "outputs": [],
   "source": [
    "st['Gender'] = st['Gender'].replace({'M':'Male', 'F':'Female'})"
   ]
  },
  {
   "cell_type": "code",
   "execution_count": 12,
   "metadata": {},
   "outputs": [],
   "source": [
    "st['Location'] = st['Location'].replace({'U':'Urban', 'R':'Rural'})"
   ]
  },
  {
   "cell_type": "code",
   "execution_count": 13,
   "metadata": {},
   "outputs": [],
   "source": [
    "st['Travel_Time'] = st['Travel_Time'].replace({\n",
    "    1:'<15 mins',\n",
    "    2:'15 to 30 mins',\n",
    "    3:'30 mins to 1 hour',\n",
    "    4:'>1 hour',\n",
    "})"
   ]
  },
  {
   "cell_type": "code",
   "execution_count": 14,
   "metadata": {},
   "outputs": [
    {
     "data": {
      "text/html": [
       "<div>\n",
       "<style scoped>\n",
       "    .dataframe tbody tr th:only-of-type {\n",
       "        vertical-align: middle;\n",
       "    }\n",
       "\n",
       "    .dataframe tbody tr th {\n",
       "        vertical-align: top;\n",
       "    }\n",
       "\n",
       "    .dataframe thead th {\n",
       "        text-align: right;\n",
       "    }\n",
       "</style>\n",
       "<table border=\"1\" class=\"dataframe\">\n",
       "  <thead>\n",
       "    <tr style=\"text-align: right;\">\n",
       "      <th></th>\n",
       "      <th>school</th>\n",
       "      <th>Gender</th>\n",
       "      <th>Age</th>\n",
       "      <th>Location</th>\n",
       "      <th>reason</th>\n",
       "      <th>Travel_Time</th>\n",
       "      <th>Weekly_Study_Time</th>\n",
       "      <th>Family_Support</th>\n",
       "      <th>Extra_Curricular</th>\n",
       "      <th>Higher_Ed_Exp</th>\n",
       "      <th>Internet_Availability</th>\n",
       "      <th>Goint_Out</th>\n",
       "      <th>Health_Status</th>\n",
       "      <th>Absences_from_School</th>\n",
       "      <th>Final Grade</th>\n",
       "    </tr>\n",
       "  </thead>\n",
       "  <tbody>\n",
       "    <tr>\n",
       "      <th>0</th>\n",
       "      <td>GP</td>\n",
       "      <td>Female</td>\n",
       "      <td>18</td>\n",
       "      <td>Urban</td>\n",
       "      <td>course</td>\n",
       "      <td>15 to 30 mins</td>\n",
       "      <td>2</td>\n",
       "      <td>no</td>\n",
       "      <td>no</td>\n",
       "      <td>yes</td>\n",
       "      <td>no</td>\n",
       "      <td>4</td>\n",
       "      <td>3</td>\n",
       "      <td>6</td>\n",
       "      <td>6</td>\n",
       "    </tr>\n",
       "    <tr>\n",
       "      <th>1</th>\n",
       "      <td>GP</td>\n",
       "      <td>Female</td>\n",
       "      <td>17</td>\n",
       "      <td>Urban</td>\n",
       "      <td>course</td>\n",
       "      <td>&lt;15 mins</td>\n",
       "      <td>2</td>\n",
       "      <td>yes</td>\n",
       "      <td>no</td>\n",
       "      <td>yes</td>\n",
       "      <td>yes</td>\n",
       "      <td>3</td>\n",
       "      <td>3</td>\n",
       "      <td>4</td>\n",
       "      <td>6</td>\n",
       "    </tr>\n",
       "    <tr>\n",
       "      <th>2</th>\n",
       "      <td>GP</td>\n",
       "      <td>Female</td>\n",
       "      <td>15</td>\n",
       "      <td>Urban</td>\n",
       "      <td>other</td>\n",
       "      <td>&lt;15 mins</td>\n",
       "      <td>2</td>\n",
       "      <td>no</td>\n",
       "      <td>no</td>\n",
       "      <td>yes</td>\n",
       "      <td>yes</td>\n",
       "      <td>2</td>\n",
       "      <td>3</td>\n",
       "      <td>10</td>\n",
       "      <td>10</td>\n",
       "    </tr>\n",
       "    <tr>\n",
       "      <th>3</th>\n",
       "      <td>GP</td>\n",
       "      <td>Female</td>\n",
       "      <td>15</td>\n",
       "      <td>Urban</td>\n",
       "      <td>home</td>\n",
       "      <td>&lt;15 mins</td>\n",
       "      <td>3</td>\n",
       "      <td>yes</td>\n",
       "      <td>yes</td>\n",
       "      <td>yes</td>\n",
       "      <td>yes</td>\n",
       "      <td>2</td>\n",
       "      <td>5</td>\n",
       "      <td>2</td>\n",
       "      <td>15</td>\n",
       "    </tr>\n",
       "    <tr>\n",
       "      <th>4</th>\n",
       "      <td>GP</td>\n",
       "      <td>Female</td>\n",
       "      <td>16</td>\n",
       "      <td>Urban</td>\n",
       "      <td>home</td>\n",
       "      <td>&lt;15 mins</td>\n",
       "      <td>2</td>\n",
       "      <td>yes</td>\n",
       "      <td>no</td>\n",
       "      <td>yes</td>\n",
       "      <td>no</td>\n",
       "      <td>2</td>\n",
       "      <td>5</td>\n",
       "      <td>4</td>\n",
       "      <td>10</td>\n",
       "    </tr>\n",
       "  </tbody>\n",
       "</table>\n",
       "</div>"
      ],
      "text/plain": [
       "  school  Gender  Age Location  reason    Travel_Time  Weekly_Study_Time  \\\n",
       "0     GP  Female   18    Urban  course  15 to 30 mins                  2   \n",
       "1     GP  Female   17    Urban  course       <15 mins                  2   \n",
       "2     GP  Female   15    Urban   other       <15 mins                  2   \n",
       "3     GP  Female   15    Urban    home       <15 mins                  3   \n",
       "4     GP  Female   16    Urban    home       <15 mins                  2   \n",
       "\n",
       "  Family_Support Extra_Curricular Higher_Ed_Exp Internet_Availability  \\\n",
       "0             no               no           yes                    no   \n",
       "1            yes               no           yes                   yes   \n",
       "2             no               no           yes                   yes   \n",
       "3            yes              yes           yes                   yes   \n",
       "4            yes               no           yes                    no   \n",
       "\n",
       "   Goint_Out  Health_Status  Absences_from_School  Final Grade  \n",
       "0          4              3                     6            6  \n",
       "1          3              3                     4            6  \n",
       "2          2              3                    10           10  \n",
       "3          2              5                     2           15  \n",
       "4          2              5                     4           10  "
      ]
     },
     "execution_count": 14,
     "metadata": {},
     "output_type": "execute_result"
    }
   ],
   "source": [
    "st['Travel_Time'] = df['traveltime']\n",
    "st['Travel_Time'] = st['Travel_Time'].replace({\n",
    "    1:'<15 mins',\n",
    "    2:'15 to 30 mins',\n",
    "    3:'30 mins to 1 hour',\n",
    "    4:'>1 hour',\n",
    "})\n",
    "st.head()"
   ]
  },
  {
   "cell_type": "code",
   "execution_count": 15,
   "metadata": {},
   "outputs": [],
   "source": [
    "st['Travel_Time'] = st['Travel_Time'].replace({\n",
    "    1:'<15 mins',\n",
    "    2:'15 to 30 mins',\n",
    "    3:'30 mins to 1 hour',\n",
    "    4:'>1 hour',\n",
    "})"
   ]
  },
  {
   "cell_type": "markdown",
   "metadata": {},
   "source": [
    "Dropping 'reason' column because I don't think it's useful"
   ]
  },
  {
   "cell_type": "code",
   "execution_count": 16,
   "metadata": {},
   "outputs": [
    {
     "data": {
      "text/html": [
       "<div>\n",
       "<style scoped>\n",
       "    .dataframe tbody tr th:only-of-type {\n",
       "        vertical-align: middle;\n",
       "    }\n",
       "\n",
       "    .dataframe tbody tr th {\n",
       "        vertical-align: top;\n",
       "    }\n",
       "\n",
       "    .dataframe thead th {\n",
       "        text-align: right;\n",
       "    }\n",
       "</style>\n",
       "<table border=\"1\" class=\"dataframe\">\n",
       "  <thead>\n",
       "    <tr style=\"text-align: right;\">\n",
       "      <th></th>\n",
       "      <th>school</th>\n",
       "      <th>Gender</th>\n",
       "      <th>Age</th>\n",
       "      <th>Location</th>\n",
       "      <th>Travel_Time</th>\n",
       "      <th>Weekly_Study_Time</th>\n",
       "      <th>Family_Support</th>\n",
       "      <th>Extra_Curricular</th>\n",
       "      <th>Higher_Ed_Exp</th>\n",
       "      <th>Internet_Availability</th>\n",
       "      <th>Goint_Out</th>\n",
       "      <th>Health_Status</th>\n",
       "      <th>Absences_from_School</th>\n",
       "      <th>Final Grade</th>\n",
       "    </tr>\n",
       "  </thead>\n",
       "  <tbody>\n",
       "    <tr>\n",
       "      <th>0</th>\n",
       "      <td>GP</td>\n",
       "      <td>Female</td>\n",
       "      <td>18</td>\n",
       "      <td>Urban</td>\n",
       "      <td>15 to 30 mins</td>\n",
       "      <td>2</td>\n",
       "      <td>no</td>\n",
       "      <td>no</td>\n",
       "      <td>yes</td>\n",
       "      <td>no</td>\n",
       "      <td>4</td>\n",
       "      <td>3</td>\n",
       "      <td>6</td>\n",
       "      <td>6</td>\n",
       "    </tr>\n",
       "    <tr>\n",
       "      <th>1</th>\n",
       "      <td>GP</td>\n",
       "      <td>Female</td>\n",
       "      <td>17</td>\n",
       "      <td>Urban</td>\n",
       "      <td>&lt;15 mins</td>\n",
       "      <td>2</td>\n",
       "      <td>yes</td>\n",
       "      <td>no</td>\n",
       "      <td>yes</td>\n",
       "      <td>yes</td>\n",
       "      <td>3</td>\n",
       "      <td>3</td>\n",
       "      <td>4</td>\n",
       "      <td>6</td>\n",
       "    </tr>\n",
       "    <tr>\n",
       "      <th>2</th>\n",
       "      <td>GP</td>\n",
       "      <td>Female</td>\n",
       "      <td>15</td>\n",
       "      <td>Urban</td>\n",
       "      <td>&lt;15 mins</td>\n",
       "      <td>2</td>\n",
       "      <td>no</td>\n",
       "      <td>no</td>\n",
       "      <td>yes</td>\n",
       "      <td>yes</td>\n",
       "      <td>2</td>\n",
       "      <td>3</td>\n",
       "      <td>10</td>\n",
       "      <td>10</td>\n",
       "    </tr>\n",
       "    <tr>\n",
       "      <th>3</th>\n",
       "      <td>GP</td>\n",
       "      <td>Female</td>\n",
       "      <td>15</td>\n",
       "      <td>Urban</td>\n",
       "      <td>&lt;15 mins</td>\n",
       "      <td>3</td>\n",
       "      <td>yes</td>\n",
       "      <td>yes</td>\n",
       "      <td>yes</td>\n",
       "      <td>yes</td>\n",
       "      <td>2</td>\n",
       "      <td>5</td>\n",
       "      <td>2</td>\n",
       "      <td>15</td>\n",
       "    </tr>\n",
       "    <tr>\n",
       "      <th>4</th>\n",
       "      <td>GP</td>\n",
       "      <td>Female</td>\n",
       "      <td>16</td>\n",
       "      <td>Urban</td>\n",
       "      <td>&lt;15 mins</td>\n",
       "      <td>2</td>\n",
       "      <td>yes</td>\n",
       "      <td>no</td>\n",
       "      <td>yes</td>\n",
       "      <td>no</td>\n",
       "      <td>2</td>\n",
       "      <td>5</td>\n",
       "      <td>4</td>\n",
       "      <td>10</td>\n",
       "    </tr>\n",
       "  </tbody>\n",
       "</table>\n",
       "</div>"
      ],
      "text/plain": [
       "  school  Gender  Age Location    Travel_Time  Weekly_Study_Time  \\\n",
       "0     GP  Female   18    Urban  15 to 30 mins                  2   \n",
       "1     GP  Female   17    Urban       <15 mins                  2   \n",
       "2     GP  Female   15    Urban       <15 mins                  2   \n",
       "3     GP  Female   15    Urban       <15 mins                  3   \n",
       "4     GP  Female   16    Urban       <15 mins                  2   \n",
       "\n",
       "  Family_Support Extra_Curricular Higher_Ed_Exp Internet_Availability  \\\n",
       "0             no               no           yes                    no   \n",
       "1            yes               no           yes                   yes   \n",
       "2             no               no           yes                   yes   \n",
       "3            yes              yes           yes                   yes   \n",
       "4            yes               no           yes                    no   \n",
       "\n",
       "   Goint_Out  Health_Status  Absences_from_School  Final Grade  \n",
       "0          4              3                     6            6  \n",
       "1          3              3                     4            6  \n",
       "2          2              3                    10           10  \n",
       "3          2              5                     2           15  \n",
       "4          2              5                     4           10  "
      ]
     },
     "execution_count": 16,
     "metadata": {},
     "output_type": "execute_result"
    }
   ],
   "source": [
    "st.drop('reason', axis=1,inplace=True)\n",
    "st.head()"
   ]
  },
  {
   "cell_type": "code",
   "execution_count": 17,
   "metadata": {},
   "outputs": [
    {
     "data": {
      "text/html": [
       "<div>\n",
       "<style scoped>\n",
       "    .dataframe tbody tr th:only-of-type {\n",
       "        vertical-align: middle;\n",
       "    }\n",
       "\n",
       "    .dataframe tbody tr th {\n",
       "        vertical-align: top;\n",
       "    }\n",
       "\n",
       "    .dataframe thead th {\n",
       "        text-align: right;\n",
       "    }\n",
       "</style>\n",
       "<table border=\"1\" class=\"dataframe\">\n",
       "  <thead>\n",
       "    <tr style=\"text-align: right;\">\n",
       "      <th></th>\n",
       "      <th>school</th>\n",
       "      <th>Gender</th>\n",
       "      <th>Age</th>\n",
       "      <th>Location</th>\n",
       "      <th>Travel_Time</th>\n",
       "      <th>Weekly_Study_Time</th>\n",
       "      <th>Family_Support</th>\n",
       "      <th>Extra_Curricular</th>\n",
       "      <th>Higher_Ed_Exp</th>\n",
       "      <th>Internet_Availability</th>\n",
       "      <th>Goint_Out</th>\n",
       "      <th>Health_Status</th>\n",
       "      <th>Absences_from_School</th>\n",
       "      <th>Final Grade</th>\n",
       "    </tr>\n",
       "  </thead>\n",
       "  <tbody>\n",
       "    <tr>\n",
       "      <th>0</th>\n",
       "      <td>GP</td>\n",
       "      <td>Female</td>\n",
       "      <td>18</td>\n",
       "      <td>Urban</td>\n",
       "      <td>15 to 30 mins</td>\n",
       "      <td>2 to 5 hours</td>\n",
       "      <td>no</td>\n",
       "      <td>no</td>\n",
       "      <td>yes</td>\n",
       "      <td>no</td>\n",
       "      <td>High</td>\n",
       "      <td>Moderate</td>\n",
       "      <td>6</td>\n",
       "      <td>6</td>\n",
       "    </tr>\n",
       "    <tr>\n",
       "      <th>1</th>\n",
       "      <td>GP</td>\n",
       "      <td>Female</td>\n",
       "      <td>17</td>\n",
       "      <td>Urban</td>\n",
       "      <td>&lt;15 mins</td>\n",
       "      <td>2 to 5 hours</td>\n",
       "      <td>yes</td>\n",
       "      <td>no</td>\n",
       "      <td>yes</td>\n",
       "      <td>yes</td>\n",
       "      <td>Moderate</td>\n",
       "      <td>Moderate</td>\n",
       "      <td>4</td>\n",
       "      <td>6</td>\n",
       "    </tr>\n",
       "    <tr>\n",
       "      <th>2</th>\n",
       "      <td>GP</td>\n",
       "      <td>Female</td>\n",
       "      <td>15</td>\n",
       "      <td>Urban</td>\n",
       "      <td>&lt;15 mins</td>\n",
       "      <td>2 to 5 hours</td>\n",
       "      <td>no</td>\n",
       "      <td>no</td>\n",
       "      <td>yes</td>\n",
       "      <td>yes</td>\n",
       "      <td>Low</td>\n",
       "      <td>Moderate</td>\n",
       "      <td>10</td>\n",
       "      <td>10</td>\n",
       "    </tr>\n",
       "    <tr>\n",
       "      <th>3</th>\n",
       "      <td>GP</td>\n",
       "      <td>Female</td>\n",
       "      <td>15</td>\n",
       "      <td>Urban</td>\n",
       "      <td>&lt;15 mins</td>\n",
       "      <td>5 to 10 hours</td>\n",
       "      <td>yes</td>\n",
       "      <td>yes</td>\n",
       "      <td>yes</td>\n",
       "      <td>yes</td>\n",
       "      <td>Low</td>\n",
       "      <td>Very Good</td>\n",
       "      <td>2</td>\n",
       "      <td>15</td>\n",
       "    </tr>\n",
       "    <tr>\n",
       "      <th>4</th>\n",
       "      <td>GP</td>\n",
       "      <td>Female</td>\n",
       "      <td>16</td>\n",
       "      <td>Urban</td>\n",
       "      <td>&lt;15 mins</td>\n",
       "      <td>2 to 5 hours</td>\n",
       "      <td>yes</td>\n",
       "      <td>no</td>\n",
       "      <td>yes</td>\n",
       "      <td>no</td>\n",
       "      <td>Low</td>\n",
       "      <td>Very Good</td>\n",
       "      <td>4</td>\n",
       "      <td>10</td>\n",
       "    </tr>\n",
       "  </tbody>\n",
       "</table>\n",
       "</div>"
      ],
      "text/plain": [
       "  school  Gender  Age Location    Travel_Time Weekly_Study_Time  \\\n",
       "0     GP  Female   18    Urban  15 to 30 mins      2 to 5 hours   \n",
       "1     GP  Female   17    Urban       <15 mins      2 to 5 hours   \n",
       "2     GP  Female   15    Urban       <15 mins      2 to 5 hours   \n",
       "3     GP  Female   15    Urban       <15 mins     5 to 10 hours   \n",
       "4     GP  Female   16    Urban       <15 mins      2 to 5 hours   \n",
       "\n",
       "  Family_Support Extra_Curricular Higher_Ed_Exp Internet_Availability  \\\n",
       "0             no               no           yes                    no   \n",
       "1            yes               no           yes                   yes   \n",
       "2             no               no           yes                   yes   \n",
       "3            yes              yes           yes                   yes   \n",
       "4            yes               no           yes                    no   \n",
       "\n",
       "  Goint_Out Health_Status  Absences_from_School  Final Grade  \n",
       "0      High      Moderate                     6            6  \n",
       "1  Moderate      Moderate                     4            6  \n",
       "2       Low      Moderate                    10           10  \n",
       "3       Low     Very Good                     2           15  \n",
       "4       Low     Very Good                     4           10  "
      ]
     },
     "execution_count": 17,
     "metadata": {},
     "output_type": "execute_result"
    }
   ],
   "source": [
    "st['Weekly_Study_Time'] = st['Weekly_Study_Time'].replace({\n",
    "    1:'<2 hours',\n",
    "    2:'2 to 5 hours',\n",
    "    3:'5 to 10 hours',\n",
    "    4:'>10 hours',\n",
    "})\n",
    "\n",
    "st['Goint_Out'] = st['Goint_Out'].replace({\n",
    "    1:'Very Low',\n",
    "    2:'Low',\n",
    "    3:'Moderate',\n",
    "    4:'High',\n",
    "    5:'Very High',\n",
    "})\n",
    "\n",
    "st['Health_Status'] = st['Health_Status'].replace({\n",
    "    1:'Very Bad',\n",
    "    2:'Bad',\n",
    "    3:'Moderate',\n",
    "    4:'Good',\n",
    "    5:'Very Good',\n",
    "})\n",
    "st.head()"
   ]
  },
  {
   "cell_type": "code",
   "execution_count": 18,
   "metadata": {},
   "outputs": [],
   "source": [
    "st = st.rename(columns={\n",
    "    'school':'School_Name',\n",
    "})"
   ]
  },
  {
   "cell_type": "code",
   "execution_count": 19,
   "metadata": {},
   "outputs": [],
   "source": [
    "st['School_Name'] = st['School_Name'].replace({\n",
    "    'GP':'Gabriel Pereira',\n",
    "    'MS':'Mousinho da Silveira'\n",
    "})"
   ]
  },
  {
   "cell_type": "markdown",
   "metadata": {},
   "source": [
    "Showing the updated dataset's shape, it has now 395 rows and 14 columns"
   ]
  },
  {
   "cell_type": "code",
   "execution_count": 20,
   "metadata": {},
   "outputs": [
    {
     "data": {
      "text/plain": [
       "(395, 14)"
      ]
     },
     "execution_count": 20,
     "metadata": {},
     "output_type": "execute_result"
    }
   ],
   "source": [
    "st.shape"
   ]
  },
  {
   "cell_type": "markdown",
   "metadata": {},
   "source": [
    "Looking for how much time students' need to reach his/her school"
   ]
  },
  {
   "cell_type": "code",
   "execution_count": 21,
   "metadata": {},
   "outputs": [
    {
     "data": {
      "text/plain": [
       "Travel_Time\n",
       "<15 mins             257\n",
       "15 to 30 mins        107\n",
       "30 mins to 1 hour     23\n",
       ">1 hour                8\n",
       "Name: count, dtype: int64"
      ]
     },
     "execution_count": 21,
     "metadata": {},
     "output_type": "execute_result"
    }
   ],
   "source": [
    "st['Travel_Time'].value_counts()"
   ]
  },
  {
   "cell_type": "code",
   "execution_count": 22,
   "metadata": {},
   "outputs": [
    {
     "data": {
      "text/plain": [
       "Family_Support\n",
       "yes    242\n",
       "no     153\n",
       "Name: count, dtype: int64"
      ]
     },
     "execution_count": 22,
     "metadata": {},
     "output_type": "execute_result"
    }
   ],
   "source": [
    "st['Family_Support'].value_counts()"
   ]
  },
  {
   "cell_type": "markdown",
   "metadata": {},
   "source": [
    "A crosstabulation between School and Gender"
   ]
  },
  {
   "cell_type": "code",
   "execution_count": 23,
   "metadata": {},
   "outputs": [
    {
     "data": {
      "text/html": [
       "<div>\n",
       "<style scoped>\n",
       "    .dataframe tbody tr th:only-of-type {\n",
       "        vertical-align: middle;\n",
       "    }\n",
       "\n",
       "    .dataframe tbody tr th {\n",
       "        vertical-align: top;\n",
       "    }\n",
       "\n",
       "    .dataframe thead th {\n",
       "        text-align: right;\n",
       "    }\n",
       "</style>\n",
       "<table border=\"1\" class=\"dataframe\">\n",
       "  <thead>\n",
       "    <tr style=\"text-align: right;\">\n",
       "      <th>Gender</th>\n",
       "      <th>Female</th>\n",
       "      <th>Male</th>\n",
       "    </tr>\n",
       "    <tr>\n",
       "      <th>School_Name</th>\n",
       "      <th></th>\n",
       "      <th></th>\n",
       "    </tr>\n",
       "  </thead>\n",
       "  <tbody>\n",
       "    <tr>\n",
       "      <th>Gabriel Pereira</th>\n",
       "      <td>183</td>\n",
       "      <td>166</td>\n",
       "    </tr>\n",
       "    <tr>\n",
       "      <th>Mousinho da Silveira</th>\n",
       "      <td>25</td>\n",
       "      <td>21</td>\n",
       "    </tr>\n",
       "  </tbody>\n",
       "</table>\n",
       "</div>"
      ],
      "text/plain": [
       "Gender                Female  Male\n",
       "School_Name                       \n",
       "Gabriel Pereira          183   166\n",
       "Mousinho da Silveira      25    21"
      ]
     },
     "execution_count": 23,
     "metadata": {},
     "output_type": "execute_result"
    }
   ],
   "source": [
    "ct = pd.crosstab(st['School_Name'], st['Gender'])\n",
    "ct"
   ]
  },
  {
   "cell_type": "markdown",
   "metadata": {},
   "source": [
    "A crosstabulation between Location and Travel Time"
   ]
  },
  {
   "cell_type": "code",
   "execution_count": 24,
   "metadata": {},
   "outputs": [
    {
     "data": {
      "text/html": [
       "<div>\n",
       "<style scoped>\n",
       "    .dataframe tbody tr th:only-of-type {\n",
       "        vertical-align: middle;\n",
       "    }\n",
       "\n",
       "    .dataframe tbody tr th {\n",
       "        vertical-align: top;\n",
       "    }\n",
       "\n",
       "    .dataframe thead th {\n",
       "        text-align: right;\n",
       "    }\n",
       "</style>\n",
       "<table border=\"1\" class=\"dataframe\">\n",
       "  <thead>\n",
       "    <tr style=\"text-align: right;\">\n",
       "      <th>Travel_Time</th>\n",
       "      <th>15 to 30 mins</th>\n",
       "      <th>30 mins to 1 hour</th>\n",
       "      <th>&lt;15 mins</th>\n",
       "      <th>&gt;1 hour</th>\n",
       "    </tr>\n",
       "    <tr>\n",
       "      <th>Location</th>\n",
       "      <th></th>\n",
       "      <th></th>\n",
       "      <th></th>\n",
       "      <th></th>\n",
       "    </tr>\n",
       "  </thead>\n",
       "  <tbody>\n",
       "    <tr>\n",
       "      <th>Rural</th>\n",
       "      <td>34</td>\n",
       "      <td>14</td>\n",
       "      <td>35</td>\n",
       "      <td>5</td>\n",
       "    </tr>\n",
       "    <tr>\n",
       "      <th>Urban</th>\n",
       "      <td>73</td>\n",
       "      <td>9</td>\n",
       "      <td>222</td>\n",
       "      <td>3</td>\n",
       "    </tr>\n",
       "  </tbody>\n",
       "</table>\n",
       "</div>"
      ],
      "text/plain": [
       "Travel_Time  15 to 30 mins  30 mins to 1 hour  <15 mins  >1 hour\n",
       "Location                                                        \n",
       "Rural                   34                 14        35        5\n",
       "Urban                   73                  9       222        3"
      ]
     },
     "execution_count": 24,
     "metadata": {},
     "output_type": "execute_result"
    }
   ],
   "source": [
    "lt = pd.crosstab(st['Location'], st['Travel_Time'])\n",
    "lt"
   ]
  },
  {
   "cell_type": "markdown",
   "metadata": {},
   "source": [
    "Calculating Overall Ranking based on Total Mark"
   ]
  },
  {
   "cell_type": "code",
   "execution_count": 25,
   "metadata": {},
   "outputs": [],
   "source": [
    "grd_letter=['A+','A','A-','B','D','F']\n",
    "grd_limit=[80,70,60,50,40,0]\n",
    "def calc_grade(x):\n",
    "    for lt, li in zip(grd_letter, grd_limit):\n",
    "        if x>=li:\n",
    "            return lt"
   ]
  },
  {
   "cell_type": "code",
   "execution_count": 26,
   "metadata": {},
   "outputs": [],
   "source": [
    "st['Term1_Mark'] = df['G1']*5\n",
    "st['Term2_Mark'] = df['G2']*5\n",
    "st['Term3_Mark'] = df['G3']*5"
   ]
  },
  {
   "cell_type": "code",
   "execution_count": 27,
   "metadata": {},
   "outputs": [],
   "source": [
    "st['Total_Mark'] = st['Term1_Mark']+st['Term2_Mark']+st['Term3_Mark']"
   ]
  },
  {
   "cell_type": "code",
   "execution_count": 28,
   "metadata": {},
   "outputs": [],
   "source": [
    "st['Average'] = np.round(st['Total_Mark']/3, 2)"
   ]
  },
  {
   "cell_type": "code",
   "execution_count": 29,
   "metadata": {},
   "outputs": [],
   "source": [
    "st['Grade'] = st['Average'].apply(calc_grade)"
   ]
  },
  {
   "cell_type": "markdown",
   "metadata": {},
   "source": [
    "Showing a pie chart for grade distribution"
   ]
  },
  {
   "cell_type": "code",
   "execution_count": 30,
   "metadata": {},
   "outputs": [
    {
     "data": {
      "image/png": "[encoded data removed]",
      "text/plain": [
       "<Figure size 500x500 with 1 Axes>"
      ]
     },
     "metadata": {},
     "output_type": "display_data"
    }
   ],
   "source": [
    "st['Grade'].value_counts().plot.pie(autopct='%1.1f%%', figsize=(5,5))\n",
    "plt.title(\"Grade Distribution of Students\")\n",
    "plt.ylabel('')\n",
    "plt.show()"
   ]
  },
  {
   "cell_type": "code",
   "execution_count": 31,
   "metadata": {},
   "outputs": [],
   "source": [
    "st['Presents'] = 93-st['Absences_from_School']"
   ]
  },
  {
   "cell_type": "markdown",
   "metadata": {},
   "source": [
    "Ranking Students based on their total_mark->Term3_Mark->Term2_Mark->Term1_Mark->Presents->Age"
   ]
  },
  {
   "cell_type": "code",
   "execution_count": 32,
   "metadata": {},
   "outputs": [
    {
     "data": {
      "text/html": [
       "<div>\n",
       "<style scoped>\n",
       "    .dataframe tbody tr th:only-of-type {\n",
       "        vertical-align: middle;\n",
       "    }\n",
       "\n",
       "    .dataframe tbody tr th {\n",
       "        vertical-align: top;\n",
       "    }\n",
       "\n",
       "    .dataframe thead th {\n",
       "        text-align: right;\n",
       "    }\n",
       "</style>\n",
       "<table border=\"1\" class=\"dataframe\">\n",
       "  <thead>\n",
       "    <tr style=\"text-align: right;\">\n",
       "      <th></th>\n",
       "      <th>School_Name</th>\n",
       "      <th>Gender</th>\n",
       "      <th>Age</th>\n",
       "      <th>Location</th>\n",
       "      <th>Travel_Time</th>\n",
       "      <th>Weekly_Study_Time</th>\n",
       "      <th>Family_Support</th>\n",
       "      <th>Extra_Curricular</th>\n",
       "      <th>Higher_Ed_Exp</th>\n",
       "      <th>Internet_Availability</th>\n",
       "      <th>...</th>\n",
       "      <th>Absences_from_School</th>\n",
       "      <th>Final Grade</th>\n",
       "      <th>Term1_Mark</th>\n",
       "      <th>Term2_Mark</th>\n",
       "      <th>Term3_Mark</th>\n",
       "      <th>Total_Mark</th>\n",
       "      <th>Average</th>\n",
       "      <th>Grade</th>\n",
       "      <th>Presents</th>\n",
       "      <th>Final_Rank</th>\n",
       "    </tr>\n",
       "  </thead>\n",
       "  <tbody>\n",
       "    <tr>\n",
       "      <th>47</th>\n",
       "      <td>Gabriel Pereira</td>\n",
       "      <td>Male</td>\n",
       "      <td>16</td>\n",
       "      <td>Urban</td>\n",
       "      <td>&lt;15 mins</td>\n",
       "      <td>&gt;10 hours</td>\n",
       "      <td>no</td>\n",
       "      <td>yes</td>\n",
       "      <td>yes</td>\n",
       "      <td>yes</td>\n",
       "      <td>...</td>\n",
       "      <td>4</td>\n",
       "      <td>20</td>\n",
       "      <td>95</td>\n",
       "      <td>95</td>\n",
       "      <td>100</td>\n",
       "      <td>290</td>\n",
       "      <td>96.67</td>\n",
       "      <td>A+</td>\n",
       "      <td>89</td>\n",
       "      <td>1</td>\n",
       "    </tr>\n",
       "    <tr>\n",
       "      <th>110</th>\n",
       "      <td>Gabriel Pereira</td>\n",
       "      <td>Male</td>\n",
       "      <td>15</td>\n",
       "      <td>Urban</td>\n",
       "      <td>&lt;15 mins</td>\n",
       "      <td>&lt;2 hours</td>\n",
       "      <td>no</td>\n",
       "      <td>yes</td>\n",
       "      <td>yes</td>\n",
       "      <td>yes</td>\n",
       "      <td>...</td>\n",
       "      <td>6</td>\n",
       "      <td>19</td>\n",
       "      <td>90</td>\n",
       "      <td>95</td>\n",
       "      <td>95</td>\n",
       "      <td>280</td>\n",
       "      <td>93.33</td>\n",
       "      <td>A+</td>\n",
       "      <td>87</td>\n",
       "      <td>2</td>\n",
       "    </tr>\n",
       "    <tr>\n",
       "      <th>113</th>\n",
       "      <td>Gabriel Pereira</td>\n",
       "      <td>Male</td>\n",
       "      <td>15</td>\n",
       "      <td>Urban</td>\n",
       "      <td>&lt;15 mins</td>\n",
       "      <td>&lt;2 hours</td>\n",
       "      <td>no</td>\n",
       "      <td>no</td>\n",
       "      <td>yes</td>\n",
       "      <td>yes</td>\n",
       "      <td>...</td>\n",
       "      <td>10</td>\n",
       "      <td>19</td>\n",
       "      <td>90</td>\n",
       "      <td>95</td>\n",
       "      <td>95</td>\n",
       "      <td>280</td>\n",
       "      <td>93.33</td>\n",
       "      <td>A+</td>\n",
       "      <td>83</td>\n",
       "      <td>3</td>\n",
       "    </tr>\n",
       "    <tr>\n",
       "      <th>374</th>\n",
       "      <td>Mousinho da Silveira</td>\n",
       "      <td>Female</td>\n",
       "      <td>18</td>\n",
       "      <td>Rural</td>\n",
       "      <td>15 to 30 mins</td>\n",
       "      <td>5 to 10 hours</td>\n",
       "      <td>no</td>\n",
       "      <td>no</td>\n",
       "      <td>yes</td>\n",
       "      <td>yes</td>\n",
       "      <td>...</td>\n",
       "      <td>0</td>\n",
       "      <td>19</td>\n",
       "      <td>95</td>\n",
       "      <td>90</td>\n",
       "      <td>95</td>\n",
       "      <td>280</td>\n",
       "      <td>93.33</td>\n",
       "      <td>A+</td>\n",
       "      <td>93</td>\n",
       "      <td>4</td>\n",
       "    </tr>\n",
       "    <tr>\n",
       "      <th>286</th>\n",
       "      <td>Gabriel Pereira</td>\n",
       "      <td>Female</td>\n",
       "      <td>18</td>\n",
       "      <td>Urban</td>\n",
       "      <td>&lt;15 mins</td>\n",
       "      <td>5 to 10 hours</td>\n",
       "      <td>yes</td>\n",
       "      <td>no</td>\n",
       "      <td>yes</td>\n",
       "      <td>yes</td>\n",
       "      <td>...</td>\n",
       "      <td>5</td>\n",
       "      <td>19</td>\n",
       "      <td>90</td>\n",
       "      <td>90</td>\n",
       "      <td>95</td>\n",
       "      <td>275</td>\n",
       "      <td>91.67</td>\n",
       "      <td>A+</td>\n",
       "      <td>88</td>\n",
       "      <td>5</td>\n",
       "    </tr>\n",
       "    <tr>\n",
       "      <th>...</th>\n",
       "      <td>...</td>\n",
       "      <td>...</td>\n",
       "      <td>...</td>\n",
       "      <td>...</td>\n",
       "      <td>...</td>\n",
       "      <td>...</td>\n",
       "      <td>...</td>\n",
       "      <td>...</td>\n",
       "      <td>...</td>\n",
       "      <td>...</td>\n",
       "      <td>...</td>\n",
       "      <td>...</td>\n",
       "      <td>...</td>\n",
       "      <td>...</td>\n",
       "      <td>...</td>\n",
       "      <td>...</td>\n",
       "      <td>...</td>\n",
       "      <td>...</td>\n",
       "      <td>...</td>\n",
       "      <td>...</td>\n",
       "      <td>...</td>\n",
       "    </tr>\n",
       "    <tr>\n",
       "      <th>269</th>\n",
       "      <td>Gabriel Pereira</td>\n",
       "      <td>Female</td>\n",
       "      <td>18</td>\n",
       "      <td>Rural</td>\n",
       "      <td>15 to 30 mins</td>\n",
       "      <td>2 to 5 hours</td>\n",
       "      <td>yes</td>\n",
       "      <td>no</td>\n",
       "      <td>no</td>\n",
       "      <td>yes</td>\n",
       "      <td>...</td>\n",
       "      <td>0</td>\n",
       "      <td>0</td>\n",
       "      <td>30</td>\n",
       "      <td>0</td>\n",
       "      <td>0</td>\n",
       "      <td>30</td>\n",
       "      <td>10.00</td>\n",
       "      <td>F</td>\n",
       "      <td>93</td>\n",
       "      <td>391</td>\n",
       "    </tr>\n",
       "    <tr>\n",
       "      <th>242</th>\n",
       "      <td>Gabriel Pereira</td>\n",
       "      <td>Male</td>\n",
       "      <td>16</td>\n",
       "      <td>Urban</td>\n",
       "      <td>&lt;15 mins</td>\n",
       "      <td>&lt;2 hours</td>\n",
       "      <td>no</td>\n",
       "      <td>yes</td>\n",
       "      <td>yes</td>\n",
       "      <td>yes</td>\n",
       "      <td>...</td>\n",
       "      <td>0</td>\n",
       "      <td>0</td>\n",
       "      <td>30</td>\n",
       "      <td>0</td>\n",
       "      <td>0</td>\n",
       "      <td>30</td>\n",
       "      <td>10.00</td>\n",
       "      <td>F</td>\n",
       "      <td>93</td>\n",
       "      <td>392</td>\n",
       "    </tr>\n",
       "    <tr>\n",
       "      <th>153</th>\n",
       "      <td>Gabriel Pereira</td>\n",
       "      <td>Male</td>\n",
       "      <td>19</td>\n",
       "      <td>Urban</td>\n",
       "      <td>&lt;15 mins</td>\n",
       "      <td>&lt;2 hours</td>\n",
       "      <td>yes</td>\n",
       "      <td>no</td>\n",
       "      <td>no</td>\n",
       "      <td>yes</td>\n",
       "      <td>...</td>\n",
       "      <td>0</td>\n",
       "      <td>0</td>\n",
       "      <td>25</td>\n",
       "      <td>0</td>\n",
       "      <td>0</td>\n",
       "      <td>25</td>\n",
       "      <td>8.33</td>\n",
       "      <td>F</td>\n",
       "      <td>93</td>\n",
       "      <td>393</td>\n",
       "    </tr>\n",
       "    <tr>\n",
       "      <th>144</th>\n",
       "      <td>Gabriel Pereira</td>\n",
       "      <td>Male</td>\n",
       "      <td>17</td>\n",
       "      <td>Urban</td>\n",
       "      <td>&lt;15 mins</td>\n",
       "      <td>&lt;2 hours</td>\n",
       "      <td>yes</td>\n",
       "      <td>no</td>\n",
       "      <td>yes</td>\n",
       "      <td>yes</td>\n",
       "      <td>...</td>\n",
       "      <td>0</td>\n",
       "      <td>0</td>\n",
       "      <td>25</td>\n",
       "      <td>0</td>\n",
       "      <td>0</td>\n",
       "      <td>25</td>\n",
       "      <td>8.33</td>\n",
       "      <td>F</td>\n",
       "      <td>93</td>\n",
       "      <td>394</td>\n",
       "    </tr>\n",
       "    <tr>\n",
       "      <th>137</th>\n",
       "      <td>Gabriel Pereira</td>\n",
       "      <td>Female</td>\n",
       "      <td>16</td>\n",
       "      <td>Urban</td>\n",
       "      <td>15 to 30 mins</td>\n",
       "      <td>&lt;2 hours</td>\n",
       "      <td>yes</td>\n",
       "      <td>yes</td>\n",
       "      <td>yes</td>\n",
       "      <td>yes</td>\n",
       "      <td>...</td>\n",
       "      <td>0</td>\n",
       "      <td>0</td>\n",
       "      <td>20</td>\n",
       "      <td>0</td>\n",
       "      <td>0</td>\n",
       "      <td>20</td>\n",
       "      <td>6.67</td>\n",
       "      <td>F</td>\n",
       "      <td>93</td>\n",
       "      <td>395</td>\n",
       "    </tr>\n",
       "  </tbody>\n",
       "</table>\n",
       "<p>395 rows × 22 columns</p>\n",
       "</div>"
      ],
      "text/plain": [
       "              School_Name  Gender  Age Location    Travel_Time  \\\n",
       "47        Gabriel Pereira    Male   16    Urban       <15 mins   \n",
       "110       Gabriel Pereira    Male   15    Urban       <15 mins   \n",
       "113       Gabriel Pereira    Male   15    Urban       <15 mins   \n",
       "374  Mousinho da Silveira  Female   18    Rural  15 to 30 mins   \n",
       "286       Gabriel Pereira  Female   18    Urban       <15 mins   \n",
       "..                    ...     ...  ...      ...            ...   \n",
       "269       Gabriel Pereira  Female   18    Rural  15 to 30 mins   \n",
       "242       Gabriel Pereira    Male   16    Urban       <15 mins   \n",
       "153       Gabriel Pereira    Male   19    Urban       <15 mins   \n",
       "144       Gabriel Pereira    Male   17    Urban       <15 mins   \n",
       "137       Gabriel Pereira  Female   16    Urban  15 to 30 mins   \n",
       "\n",
       "    Weekly_Study_Time Family_Support Extra_Curricular Higher_Ed_Exp  \\\n",
       "47          >10 hours             no              yes           yes   \n",
       "110          <2 hours             no              yes           yes   \n",
       "113          <2 hours             no               no           yes   \n",
       "374     5 to 10 hours             no               no           yes   \n",
       "286     5 to 10 hours            yes               no           yes   \n",
       "..                ...            ...              ...           ...   \n",
       "269      2 to 5 hours            yes               no            no   \n",
       "242          <2 hours             no              yes           yes   \n",
       "153          <2 hours            yes               no            no   \n",
       "144          <2 hours            yes               no           yes   \n",
       "137          <2 hours            yes              yes           yes   \n",
       "\n",
       "    Internet_Availability  ... Absences_from_School Final Grade  Term1_Mark  \\\n",
       "47                    yes  ...                    4          20          95   \n",
       "110                   yes  ...                    6          19          90   \n",
       "113                   yes  ...                   10          19          90   \n",
       "374                   yes  ...                    0          19          95   \n",
       "286                   yes  ...                    5          19          90   \n",
       "..                    ...  ...                  ...         ...         ...   \n",
       "269                   yes  ...                    0           0          30   \n",
       "242                   yes  ...                    0           0          30   \n",
       "153                   yes  ...                    0           0          25   \n",
       "144                   yes  ...                    0           0          25   \n",
       "137                   yes  ...                    0           0          20   \n",
       "\n",
       "     Term2_Mark  Term3_Mark  Total_Mark  Average  Grade  Presents Final_Rank  \n",
       "47           95         100         290    96.67     A+        89          1  \n",
       "110          95          95         280    93.33     A+        87          2  \n",
       "113          95          95         280    93.33     A+        83          3  \n",
       "374          90          95         280    93.33     A+        93          4  \n",
       "286          90          95         275    91.67     A+        88          5  \n",
       "..          ...         ...         ...      ...    ...       ...        ...  \n",
       "269           0           0          30    10.00      F        93        391  \n",
       "242           0           0          30    10.00      F        93        392  \n",
       "153           0           0          25     8.33      F        93        393  \n",
       "144           0           0          25     8.33      F        93        394  \n",
       "137           0           0          20     6.67      F        93        395  \n",
       "\n",
       "[395 rows x 22 columns]"
      ]
     },
     "execution_count": 32,
     "metadata": {},
     "output_type": "execute_result"
    }
   ],
   "source": [
    "st['Final_Rank'] = st[['Total_Mark','Term3_Mark', 'Term2_Mark', 'Term1_Mark', 'Presents','Age']].apply(tuple, axis=1).rank(method='min', ascending=False).astype(int)\n",
    "st.sort_values(by='Final_Rank')"
   ]
  },
  {
   "cell_type": "markdown",
   "metadata": {},
   "source": [
    "Visualizations"
   ]
  },
  {
   "cell_type": "markdown",
   "metadata": {},
   "source": [
    "Box plot of total marks by locations"
   ]
  },
  {
   "cell_type": "code",
   "execution_count": 33,
   "metadata": {},
   "outputs": [
    {
     "name": "stderr",
     "output_type": "stream",
     "text": [
      "C:\\Users\\LEGION\\AppData\\Local\\Temp\\ipykernel_10772\\1564260719.py:4: MatplotlibDeprecationWarning: The 'labels' parameter of boxplot() has been renamed 'tick_labels' since Matplotlib 3.9; support for the old name will be dropped in 3.11.\n",
      "  plt.boxplot(marks_by_location, labels=locations)\n"
     ]
    },
    {
     "data": {
      "image/png": "[encoded data removed]",
      "text/plain": [
       "<Figure size 640x480 with 1 Axes>"
      ]
     },
     "metadata": {},
     "output_type": "display_data"
    }
   ],
   "source": [
    "locations = st['Location'].unique()  # Find unique locations\n",
    "marks_by_location = [st[st['Location'] == loc]['Total_Mark'] for loc in locations]\n",
    "\n",
    "plt.boxplot(marks_by_location, labels=locations)\n",
    "plt.title(\"Box Plot of Total Marks by Location\")\n",
    "plt.xlabel(\"Location\")\n",
    "plt.ylabel(\"Total Marks\")\n",
    "plt.show()"
   ]
  },
  {
   "cell_type": "markdown",
   "metadata": {},
   "source": [
    "Box plot of total mark by gender"
   ]
  },
  {
   "cell_type": "code",
   "execution_count": 34,
   "metadata": {},
   "outputs": [
    {
     "name": "stderr",
     "output_type": "stream",
     "text": [
      "C:\\Users\\LEGION\\AppData\\Local\\Temp\\ipykernel_10772\\1489892946.py:4: MatplotlibDeprecationWarning: The 'labels' parameter of boxplot() has been renamed 'tick_labels' since Matplotlib 3.9; support for the old name will be dropped in 3.11.\n",
      "  plt.boxplot(marks_by_location, labels=locations)\n"
     ]
    },
    {
     "data": {
      "image/png": "[encoded data removed]",
      "text/plain": [
       "<Figure size 640x480 with 1 Axes>"
      ]
     },
     "metadata": {},
     "output_type": "display_data"
    }
   ],
   "source": [
    "locations = st['Gender'].unique()  # Find unique locations\n",
    "marks_by_location = [st[st['Gender'] == loc]['Total_Mark'] for loc in locations]\n",
    "\n",
    "plt.boxplot(marks_by_location, labels=locations)\n",
    "plt.title(\"Box Plot of Total Marks by Gender\")\n",
    "plt.xlabel(\"Gender\")\n",
    "plt.ylabel(\"Total Marks\")\n",
    "plt.show()"
   ]
  },
  {
   "cell_type": "markdown",
   "metadata": {},
   "source": [
    "Student's health pie chart"
   ]
  },
  {
   "cell_type": "code",
   "execution_count": 35,
   "metadata": {},
   "outputs": [
    {
     "data": {
      "image/png": "[encoded data removed]",
      "text/plain": [
       "<Figure size 500x500 with 1 Axes>"
      ]
     },
     "metadata": {},
     "output_type": "display_data"
    }
   ],
   "source": [
    "st['Health_Status'].value_counts().plot.pie(autopct='%1.1f%%', figsize=(5,5))\n",
    "plt.title(\"Health Status of Students\")\n",
    "plt.ylabel('')\n",
    "plt.show()"
   ]
  },
  {
   "cell_type": "markdown",
   "metadata": {},
   "source": [
    "side by side pie charts"
   ]
  },
  {
   "cell_type": "code",
   "execution_count": 36,
   "metadata": {},
   "outputs": [
    {
     "data": {
      "image/png": "[encoded data removed]",
      "text/plain": [
       "<Figure size 1200x800 with 6 Axes>"
      ]
     },
     "metadata": {},
     "output_type": "display_data"
    }
   ],
   "source": [
    "# Sample Data\n",
    "data = {\n",
    "    'School_Name': st['School_Name'],\n",
    "    'Gender': st['Gender'],\n",
    "    'Location': st['Location'],\n",
    "    'Family_Support': st['Family_Support'],\n",
    "    'Extra_Curricular': st['Extra_Curricular'],\n",
    "    'Internet_Availability': st['Internet_Availability']\n",
    "}\n",
    "dt = pd.DataFrame(data)\n",
    "\n",
    "# List of categorical columns to create pie charts for\n",
    "columns = ['School_Name', 'Gender', 'Location', 'Family_Support', 'Extra_Curricular', 'Internet_Availability']\n",
    "\n",
    "# Define the number of rows and columns for the subplots grid\n",
    "n_cols = 3\n",
    "n_rows = (len(columns) + n_cols - 1) // n_cols  # Calculate required rows to fit all columns\n",
    "\n",
    "# Create subplots\n",
    "fig, axes = plt.subplots(n_rows, n_cols, figsize=(12, 8))\n",
    "\n",
    "# Flatten axes array for easy iteration\n",
    "axes = axes.flatten()\n",
    "\n",
    "# Generate pie charts for each column\n",
    "for i, col in enumerate(columns):\n",
    "    counts = dt[col].value_counts()  # Get counts for each category\n",
    "    axes[i].pie(counts, labels=counts.index, autopct='%1.1f%%', startangle=90)\n",
    "    axes[i].set_title(f\"{col} Distribution\")\n",
    "\n",
    "# Hide any empty subplots if columns don't fill grid\n",
    "for j in range(i + 1, n_rows * n_cols):\n",
    "    fig.delaxes(axes[j])\n",
    "\n",
    "plt.tight_layout()\n",
    "plt.show()\n"
   ]
  },
  {
   "cell_type": "markdown",
   "metadata": {},
   "source": [
    "Box Plot for Distribution of Marks Per Term"
   ]
  },
  {
   "cell_type": "code",
   "execution_count": 37,
   "metadata": {},
   "outputs": [
    {
     "name": "stderr",
     "output_type": "stream",
     "text": [
      "C:\\Users\\LEGION\\AppData\\Local\\Temp\\ipykernel_10772\\319227307.py:6: MatplotlibDeprecationWarning: The 'labels' parameter of boxplot() has been renamed 'tick_labels' since Matplotlib 3.9; support for the old name will be dropped in 3.11.\n",
      "  plt.boxplot(boxplot_data, labels=['Term 1', 'Term 2', 'Term 3'])\n"
     ]
    },
    {
     "data": {
      "image/png": "[encoded data removed]",
      "text/plain": [
       "<Figure size 800x600 with 1 Axes>"
      ]
     },
     "metadata": {},
     "output_type": "display_data"
    }
   ],
   "source": [
    "# Reformat data for boxplot\n",
    "boxplot_data = [st['Term1_Mark'], st['Term2_Mark'], st['Term3_Mark']]\n",
    "\n",
    "# Plotting\n",
    "plt.figure(figsize=(8, 6))\n",
    "plt.boxplot(boxplot_data, labels=['Term 1', 'Term 2', 'Term 3'])\n",
    "plt.title('Distribution of Marks by Term')\n",
    "plt.xlabel('Terms')\n",
    "plt.ylabel('Marks')\n",
    "plt.ylim(0, 100)\n",
    "plt.grid(True)\n",
    "plt.show()\n"
   ]
  },
  {
   "cell_type": "markdown",
   "metadata": {},
   "source": [
    "Histogram of Average Column"
   ]
  },
  {
   "cell_type": "code",
   "execution_count": 38,
   "metadata": {},
   "outputs": [
    {
     "data": {
      "text/plain": [
       "<Axes: ylabel='Frequency'>"
      ]
     },
     "execution_count": 38,
     "metadata": {},
     "output_type": "execute_result"
    },
    {
     "data": {
      "image/png": "[encoded data removed]",
      "text/plain": [
       "<Figure size 640x480 with 1 Axes>"
      ]
     },
     "metadata": {},
     "output_type": "display_data"
    }
   ],
   "source": [
    "st['Average'].plot.hist(bins=40)"
   ]
  },
  {
   "cell_type": "markdown",
   "metadata": {},
   "source": [
    "Density plot of Average Column"
   ]
  },
  {
   "cell_type": "code",
   "execution_count": 39,
   "metadata": {},
   "outputs": [
    {
     "data": {
      "text/plain": [
       "<Axes: ylabel='Density'>"
      ]
     },
     "execution_count": 39,
     "metadata": {},
     "output_type": "execute_result"
    },
    {
     "data": {
      "image/png": "[encoded data removed]",
      "text/plain": [
       "<Figure size 640x480 with 1 Axes>"
      ]
     },
     "metadata": {},
     "output_type": "display_data"
    }
   ],
   "source": [
    "st['Average'].plot.density()"
   ]
  },
  {
   "cell_type": "code",
   "execution_count": 40,
   "metadata": {},
   "outputs": [
    {
     "data": {
      "text/plain": [
       "<Axes: xlabel='Average', ylabel='Count'>"
      ]
     },
     "execution_count": 40,
     "metadata": {},
     "output_type": "execute_result"
    },
    {
     "data": {
      "image/png": "[encoded data removed]",
      "text/plain": [
       "<Figure size 640x480 with 1 Axes>"
      ]
     },
     "metadata": {},
     "output_type": "display_data"
    }
   ],
   "source": [
    "sns.histplot(st['Average'], bins=50, color='red')"
   ]
  },
  {
   "cell_type": "code",
   "execution_count": 41,
   "metadata": {},
   "outputs": [
    {
     "data": {
      "text/plain": [
       "<Axes: xlabel='Presents', ylabel='Count'>"
      ]
     },
     "execution_count": 41,
     "metadata": {},
     "output_type": "execute_result"
    },
    {
     "data": {
      "image/png": "[encoded data removed]",
      "text/plain": [
       "<Figure size 640x480 with 1 Axes>"
      ]
     },
     "metadata": {},
     "output_type": "display_data"
    }
   ],
   "source": [
    "sns.histplot(st['Presents'], bins=40, color='green')\n",
    "#showing higher attendences"
   ]
  },
  {
   "cell_type": "markdown",
   "metadata": {},
   "source": [
    "More Grade Dependencies"
   ]
  },
  {
   "cell_type": "code",
   "execution_count": 42,
   "metadata": {},
   "outputs": [
    {
     "data": {
      "text/plain": [
       "Index(['School_Name', 'Gender', 'Age', 'Location', 'Travel_Time',\n",
       "       'Weekly_Study_Time', 'Family_Support', 'Extra_Curricular',\n",
       "       'Higher_Ed_Exp', 'Internet_Availability', 'Goint_Out', 'Health_Status',\n",
       "       'Absences_from_School', 'Final Grade', 'Term1_Mark', 'Term2_Mark',\n",
       "       'Term3_Mark', 'Total_Mark', 'Average', 'Grade', 'Presents',\n",
       "       'Final_Rank'],\n",
       "      dtype='object')"
      ]
     },
     "execution_count": 42,
     "metadata": {},
     "output_type": "execute_result"
    }
   ],
   "source": [
    "st.columns"
   ]
  },
  {
   "cell_type": "markdown",
   "metadata": {},
   "source": [
    "Comparing School Performances"
   ]
  },
  {
   "cell_type": "code",
   "execution_count": 43,
   "metadata": {},
   "outputs": [
    {
     "data": {
      "text/plain": [
       "School_Name\n",
       "Gabriel Pereira         161.060172\n",
       "Mousinho da Silveira    153.586957\n",
       "Name: Total_Mark, dtype: float64"
      ]
     },
     "execution_count": 43,
     "metadata": {},
     "output_type": "execute_result"
    }
   ],
   "source": [
    "scl_per = st.groupby('School_Name')['Total_Mark'].mean()\n",
    "scl_per"
   ]
  },
  {
   "cell_type": "code",
   "execution_count": 44,
   "metadata": {},
   "outputs": [
    {
     "data": {
      "text/plain": [
       "School_Name\n",
       "Gabriel Pereira         87.034384\n",
       "Mousinho da Silveira    89.239130\n",
       "Name: Presents, dtype: float64"
      ]
     },
     "execution_count": 44,
     "metadata": {},
     "output_type": "execute_result"
    }
   ],
   "source": [
    "scl_att = st.groupby('School_Name')['Presents'].mean()\n",
    "scl_att"
   ]
  },
  {
   "cell_type": "code",
   "execution_count": 45,
   "metadata": {},
   "outputs": [
    {
     "data": {
      "text/plain": [
       "Extra_Curricular\n",
       "no     157.886598\n",
       "yes    162.412935\n",
       "Name: Total_Mark, dtype: float64"
      ]
     },
     "execution_count": 45,
     "metadata": {},
     "output_type": "execute_result"
    }
   ],
   "source": [
    "ext_per = st.groupby('Extra_Curricular')['Total_Mark'].mean()\n",
    "ext_per"
   ]
  },
  {
   "cell_type": "code",
   "execution_count": 46,
   "metadata": {},
   "outputs": [
    {
     "data": {
      "text/plain": [
       "Internet_Availability\n",
       "no     147.500000\n",
       "yes    162.735562\n",
       "Name: Total_Mark, dtype: float64"
      ]
     },
     "execution_count": 46,
     "metadata": {},
     "output_type": "execute_result"
    }
   ],
   "source": [
    "int_per = st.groupby('Internet_Availability')['Total_Mark'].mean()\n",
    "int_per"
   ]
  },
  {
   "cell_type": "code",
   "execution_count": 47,
   "metadata": {},
   "outputs": [
    {
     "data": {
      "text/plain": [
       "Travel_Time\n",
       "15 to 30 mins        154.439252\n",
       "30 mins to 1 hour    147.826087\n",
       "<15 mins             164.688716\n",
       ">1 hour              128.125000\n",
       "Name: Total_Mark, dtype: float64"
      ]
     },
     "execution_count": 47,
     "metadata": {},
     "output_type": "execute_result"
    }
   ],
   "source": [
    "travel_per = st.groupby('Travel_Time')['Total_Mark'].mean()\n",
    "travel_per"
   ]
  },
  {
   "cell_type": "markdown",
   "metadata": {},
   "source": [
    "Study habits and performance"
   ]
  },
  {
   "cell_type": "code",
   "execution_count": 48,
   "metadata": {},
   "outputs": [
    {
     "data": {
      "text/plain": [
       "Weekly_Study_Time\n",
       "2 to 5 hours     156.641414\n",
       "5 to 10 hours    174.769231\n",
       "<2 hours         153.809524\n",
       ">10 hours        175.925926\n",
       "Name: Total_Mark, dtype: float64"
      ]
     },
     "execution_count": 48,
     "metadata": {},
     "output_type": "execute_result"
    }
   ],
   "source": [
    "std_per = st.groupby('Weekly_Study_Time')['Total_Mark'].mean()\n",
    "std_per"
   ]
  },
  {
   "cell_type": "markdown",
   "metadata": {},
   "source": [
    "Correlation between weekly study time and health status, stacked bar chart"
   ]
  },
  {
   "cell_type": "code",
   "execution_count": 49,
   "metadata": {},
   "outputs": [
    {
     "data": {
      "image/png": "[encoded data removed]",
      "text/plain": [
       "<Figure size 1000x600 with 1 Axes>"
      ]
     },
     "metadata": {},
     "output_type": "display_data"
    }
   ],
   "source": [
    "study_health_ct = pd.crosstab(st['Weekly_Study_Time'], st['Health_Status'])\n",
    "\n",
    "# 2. Stacked Bar Chart\n",
    "study_health_ct.plot(kind='bar', stacked=True, figsize=(10, 6), colormap='viridis')\n",
    "plt.title(\"Weekly Study Time vs. Health Status\")\n",
    "plt.xlabel(\"Weekly Study Time\")\n",
    "plt.ylabel(\"Count\")\n",
    "plt.legend(title=\"Health Status\")\n",
    "plt.show()"
   ]
  },
  {
   "cell_type": "markdown",
   "metadata": {},
   "source": [
    "Bar Plot of Average Marks by Health_Status"
   ]
  },
  {
   "cell_type": "code",
   "execution_count": 50,
   "metadata": {},
   "outputs": [
    {
     "data": {
      "image/png": "[encoded data removed]",
      "text/plain": [
       "<Figure size 640x480 with 1 Axes>"
      ]
     },
     "metadata": {},
     "output_type": "display_data"
    }
   ],
   "source": [
    "sns.barplot(x=st['Health_Status'], y=st['Average'], data=st, errorbar='sd', hue=st['Health_Status'])\n",
    "plt.title('Bar Plot of Average Marks by Health_Status')\n",
    "plt.xlabel('Health Status')\n",
    "plt.ylabel('Average Marks')\n",
    "plt.show()"
   ]
  },
  {
   "cell_type": "markdown",
   "metadata": {},
   "source": [
    "Bar Plot of Average Marks by Weekly_Study_Time"
   ]
  },
  {
   "cell_type": "code",
   "execution_count": 51,
   "metadata": {},
   "outputs": [
    {
     "data": {
      "image/png": "[encoded data removed]",
      "text/plain": [
       "<Figure size 640x480 with 1 Axes>"
      ]
     },
     "metadata": {},
     "output_type": "display_data"
    }
   ],
   "source": [
    "sns.barplot(x=st['Average'], y=st['Weekly_Study_Time'], data=st, errorbar='sd', hue=st['Weekly_Study_Time'])\n",
    "plt.title('Bar Plot of Average Marks by Weekly_Study_Time')\n",
    "plt.xlabel('Average Mark')\n",
    "plt.ylabel('Weekly Study Time')\n",
    "plt.show()"
   ]
  }
 ],
 "metadata": {
  "kernelspec": {
   "display_name": "Python 3",
   "language": "python",
   "name": "python3"
  },
  "language_info": {
   "codemirror_mode": {
    "name": "ipython",
    "version": 3
   },
   "file_extension": ".py",
   "mimetype": "text/x-python",
   "name": "python",
   "nbconvert_exporter": "python",
   "pygments_lexer": "ipython3",
   "version": "3.12.6"
  }
 },
 "nbformat": 4,
 "nbformat_minor": 2
}
